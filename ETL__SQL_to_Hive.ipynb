{
 "cells": [
  {
   "cell_type": "code",
   "execution_count": 1,
   "id": "699f76e7",
   "metadata": {},
   "outputs": [],
   "source": [
    "from pyspark.sql import SparkSession\n",
    "from pyspark.sql.functions import *\n",
    "from pyspark.sql.types import *\n",
    "from pyspark import StorageLevel"
   ]
  },
  {
   "cell_type": "code",
   "execution_count": 2,
   "id": "82632420",
   "metadata": {},
   "outputs": [],
   "source": [
    "spark = SparkSession.builder \\\n",
    "    .appName(\"ETL-MySQL_to_Hive\") \\\n",
    "    .master(\"local[*]\") \\\n",
    "    .config(\"spark.streaming.stopGracefullyOnShutdown\",\"true\") \\\n",
    "    .config(\"spark.jars.packeges\",\"org.apache.spark:spark-sql-kafka-0-10_2.13:3.1.2\") \\\n",
    "    .config(\"spark.sql.warehouse.dir\", \"/user/hive/warehouse\") \\\n",
    "    .config(\"hive.metastore.uris\", \"thrift://your-hive-metastore-uri:port\") \\\n",
    "    .config(\"spark.jars\", \"/path/to/mysql-connector-java-x.x.xx.jar\") \\\n",
    "    .config(\"spark.driver.allowMultipleContexts\",\"true\") \\\n",
    "    .enableHiveSupport() \\\n",
    "    .getOrCreate()"
   ]
  },
  {
   "cell_type": "code",
   "execution_count": 3,
   "id": "910b046c",
   "metadata": {},
   "outputs": [],
   "source": [
    "mysql_url = \"jdbc:mysql://localhost:3306/ylc\"\n",
    "mysql_properties = {\n",
    "    \"user\": \"student\",\n",
    "    \"password\": \"student\",\n",
    "    \"driver\": \"com.mysql.jdbc.Driver\"\n",
    "}\n",
    "table_name = \"taxi_trips\""
   ]
  },
  {
   "cell_type": "code",
   "execution_count": 4,
   "id": "2442affc",
   "metadata": {},
   "outputs": [],
   "source": [
    "df = spark.read.jdbc(\n",
    "    url=mysql_url,\n",
    "    table=\"taxi_trips\",\n",
    "    properties=mysql_properties,\n",
    "    column=\"trip_id\",\n",
    "    lowerBound=1,\n",
    "    upperBound=20332093,\n",
    "    numPartitions=20\n",
    ")"
   ]
  },
  {
   "cell_type": "code",
   "execution_count": 5,
   "id": "721d87fa",
   "metadata": {},
   "outputs": [],
   "source": [
    "def handle_negatives(self):\n",
    "    \n",
    "    for column in self.columns:\n",
    "        self = self.withColumn(column, abs(self[column]))\n",
    "    return self\n",
    "\n",
    "# Attach the function to the DataFrame class\n",
    "DataFrame.handle_negatives = handle_negatives"
   ]
  },
  {
   "cell_type": "code",
   "execution_count": 6,
   "id": "bf5526ad",
   "metadata": {},
   "outputs": [
    {
     "name": "stderr",
     "output_type": "stream",
     "text": [
      "[Stage 2:=====================================================>   (14 + 1) / 15]\r"
     ]
    },
    {
     "name": "stdout",
     "output_type": "stream",
     "text": [
      "+-----------+\n",
      "|fare_amount|\n",
      "+-----------+\n",
      "+-----------+\n",
      "\n"
     ]
    },
    {
     "name": "stderr",
     "output_type": "stream",
     "text": [
      "\r",
      "                                                                                \r"
     ]
    }
   ],
   "source": [
    "# Handle Negatives\n",
    "no_negative_df = df.handle_negatives()\n",
    "# Check Negatives\n",
    "no_negative_df.select(col(\"fare_amount\")).where(col(\"fare_amount\")< 0 ).show(5)"
   ]
  },
  {
   "cell_type": "code",
   "execution_count": 18,
   "id": "94368fae",
   "metadata": {},
   "outputs": [
    {
     "name": "stderr",
     "output_type": "stream",
     "text": [
      "[Stage 14:=========================================>              (55 + 2) / 75]\r"
     ]
    },
    {
     "name": "stdout",
     "output_type": "stream",
     "text": [
      "+----------+\n",
      "|RatecodeID|\n",
      "+----------+\n",
      "|      null|\n",
      "|       1.0|\n",
      "|       4.0|\n",
      "|       3.0|\n",
      "|       2.0|\n",
      "|       6.0|\n",
      "|       5.0|\n",
      "+----------+\n",
      "\n"
     ]
    },
    {
     "name": "stderr",
     "output_type": "stream",
     "text": [
      "\r",
      "[Stage 14:=====================================================>  (71 + 4) / 75]\r",
      "\r",
      "                                                                                \r"
     ]
    }
   ],
   "source": [
    "# Check Nulls and Outliers \n",
    "no_negative_df.select(col(\"RatecodeID\")).distinct().show()"
   ]
  },
  {
   "cell_type": "code",
   "execution_count": 7,
   "id": "b003861f",
   "metadata": {},
   "outputs": [],
   "source": [
    "# Fill NA values in all columns with 0\n",
    "no_negative_no_null_df = no_negative_df.fillna(0)\n"
   ]
  },
  {
   "cell_type": "code",
   "execution_count": 25,
   "id": "d66af871",
   "metadata": {},
   "outputs": [
    {
     "name": "stderr",
     "output_type": "stream",
     "text": [
      "                                                                                \r"
     ]
    },
    {
     "name": "stdout",
     "output_type": "stream",
     "text": [
      "+----------+\n",
      "|RatecodeID|\n",
      "+----------+\n",
      "|       0.0|\n",
      "|       1.0|\n",
      "|       4.0|\n",
      "|       3.0|\n",
      "|       2.0|\n",
      "|       6.0|\n",
      "|       5.0|\n",
      "+----------+\n",
      "\n"
     ]
    },
    {
     "name": "stderr",
     "output_type": "stream",
     "text": [
      "\r",
      "[Stage 44:==================================================>     (67 + 2) / 75]\r",
      "\r",
      "                                                                                \r"
     ]
    }
   ],
   "source": [
    "# Check Nulls Again\n",
    "no_negative_no_null_df.select(col(\"RatecodeID\")).distinct().show()"
   ]
  },
  {
   "cell_type": "code",
   "execution_count": 27,
   "id": "71635480",
   "metadata": {},
   "outputs": [
    {
     "name": "stderr",
     "output_type": "stream",
     "text": [
      "                                                                                \r"
     ]
    },
    {
     "name": "stdout",
     "output_type": "stream",
     "text": [
      "+--------+--------+\n",
      "|VendorID|   count|\n",
      "+--------+--------+\n",
      "|       6|    1248|\n",
      "|       1| 4922071|\n",
      "|       2|15408774|\n",
      "+--------+--------+\n",
      "\n"
     ]
    }
   ],
   "source": [
    "#Check Vendor_ID outlaiers\n",
    "no_negative_no_null_df.groupBy(\"VendorID\").count().show()"
   ]
  },
  {
   "cell_type": "code",
   "execution_count": 8,
   "id": "fe3a8213",
   "metadata": {},
   "outputs": [],
   "source": [
    "#Handle Outliers\n",
    "no_negative_no_null_df = no_negative_no_null_df.filter(col(\"VendorID\") != 6)"
   ]
  },
  {
   "cell_type": "code",
   "execution_count": 33,
   "id": "ec044d9c",
   "metadata": {},
   "outputs": [
    {
     "name": "stderr",
     "output_type": "stream",
     "text": [
      "                                                                                \r"
     ]
    },
    {
     "name": "stdout",
     "output_type": "stream",
     "text": [
      "+------------+--------+\n",
      "|payment_type|   count|\n",
      "+------------+--------+\n",
      "|           0| 1974737|\n",
      "|           5|       2|\n",
      "|           1|15111929|\n",
      "|           3|  133352|\n",
      "|           2| 2773067|\n",
      "|           4|  337758|\n",
      "+------------+--------+\n",
      "\n"
     ]
    }
   ],
   "source": [
    "# Check payment_type Nulls and Outliers\n",
    "no_negative_no_null_df.groupBy(\"payment_type\").count().show()"
   ]
  },
  {
   "cell_type": "code",
   "execution_count": 9,
   "id": "d2e8e306",
   "metadata": {},
   "outputs": [
    {
     "data": {
      "text/plain": [
       "DataFrame[Airport_fee: double, DOLocationID: bigint, PULocationID: bigint, RatecodeID: double, VendorID: bigint, congestion_surcharge: double, extra: double, fare_amount: double, improvement_surcharge: double, mta_tax: double, passenger_count: double, payment_type: bigint, store_and_fwd_flag: double, tip_amount: double, tolls_amount: double, total_amount: double, tpep_dropoff_datetime: bigint, tpep_pickup_datetime: bigint, trip_distance: double, trip_id: int]"
      ]
     },
     "execution_count": 9,
     "metadata": {},
     "output_type": "execute_result"
    }
   ],
   "source": [
    "#Persist Final_NYC (Data After Cleaning) to enhance Performance\n",
    "Final_NYC = no_negative_no_null_df.repartition(200)\n",
    "Final_NYC.persist(StorageLevel.DISK_ONLY)"
   ]
  },
  {
   "cell_type": "code",
   "execution_count": 24,
   "id": "1cba845a",
   "metadata": {},
   "outputs": [],
   "source": [
    "def DIM_Vendor(Final_NYC):\n",
    "    dim_vendor= Final_NYC \\\n",
    "        .withColumn(\n",
    "        \"vendor_name\"\n",
    "        ,when(col(\"VendorID\") == 1, \"Creative Mobile Technologies\")\n",
    "        .when(col(\"VendorID\") == 2, \"VeriFone Inc\")\n",
    "    ).select(\"VendorID\", \n",
    "             \"vendor_name\").distinct()\n",
    "    return dim_vendor"
   ]
  },
  {
   "cell_type": "code",
   "execution_count": 20,
   "id": "53e30692",
   "metadata": {},
   "outputs": [],
   "source": [
    "def Dim_Rate(Final_NYC):\n",
    "    dim_rate = Final_NYC \\\n",
    "    .withColumn(  \"Rate\"\n",
    "        ,when(col(\"RatecodeID\") == 1, \"Standard rate\")\n",
    "        .when(col(\"RatecodeID\") == 2, \"JFK\")\n",
    "        .when(col(\"RatecodeID\") == 3, \"Newark\")\n",
    "        .when(col(\"RatecodeID\") == 4, \"Nassau or Westchester\")\n",
    "        .when(col(\"RatecodeID\") == 5, \"Negotiated fare\")\n",
    "        .when(col(\"RatecodeID\") == 6, \"Group ride\")\n",
    "        .otherwise(\"Unknown\")\n",
    "    ).select(\"RatecodeID\",\n",
    "             \"Rate\").distinct()\n",
    "    return dim_rate"
   ]
  },
  {
   "cell_type": "code",
   "execution_count": 22,
   "id": "8e12bb44",
   "metadata": {},
   "outputs": [],
   "source": [
    "def Dim_Payment(Final_NYC):\n",
    "    dim_payment = Final_NYC \\\n",
    "    .withColumnRenamed(\"payment_type\" , \"payment_type_id\"\n",
    "   ).withColumn(\"payment_type\"\n",
    "        ,when(col(\"payment_type_id\") == 1, \"Credit card\")\n",
    "        .when(col(\"payment_type_id\") == 2, \"Cash\")\n",
    "        .when(col(\"payment_type_id\") == 3, \"No charge\")\n",
    "        .when(col(\"payment_type_id\") == 4, \"Dispute\")\n",
    "        .when(col(\"payment_type_id\") == 5, \"Unknown\")\n",
    "        .when(col(\"payment_type_id\") == 6, \"Voided trip\")\n",
    "        .otherwise(\"Unknown\")\n",
    "    ).select(\"payment_type_id\",\n",
    "             \"payment_type\").distinct()\n",
    "    return dim_payment"
   ]
  },
  {
   "cell_type": "code",
   "execution_count": 14,
   "id": "747d3ed7",
   "metadata": {},
   "outputs": [],
   "source": [
    "def Dim_Dropoff_Date(Final_NYC):\n",
    "    dim_dropoff_date = Final_NYC \\\n",
    "    .withColumn(\"tpep_dropoff_date_time\", to_timestamp(col(\"tpep_dropoff_datetime\"))) \\\n",
    "    .select(\n",
    "        col(\"tpep_dropoff_datetime\").alias(\"dropoff_timestamp\"),\n",
    "        col(\"tpep_dropoff_date_time\").alias(\"Dropoff_date_time\"),\n",
    "        year(col(\"tpep_dropoff_date_time\")).alias(\"Dropoff_Year\"),\n",
    "        month(col(\"tpep_dropoff_date_time\")).alias(\"Dropoff_Month\"),\n",
    "        dayofmonth(col(\"tpep_dropoff_date_time\")).alias(\"Dropoff_Day\"),\n",
    "        date_format(col(\"tpep_dropoff_date_time\"), 'EEEE').alias(\"Dropoff_Day_of_Week\"),\n",
    "        hour(col(\"tpep_dropoff_date_time\")).alias(\"Dropoff_Hour\")\n",
    "    ).distinct()\n",
    "    return dim_dropoff_date"
   ]
  },
  {
   "cell_type": "code",
   "execution_count": 11,
   "id": "f5a430f9",
   "metadata": {},
   "outputs": [],
   "source": [
    "def Dim_Pickup_Date(Final_NYC):\n",
    "    dim_pickup_date = Final_NYC \\\n",
    "    .withColumn(\"tpep_pickup_date_time\", to_timestamp(col(\"tpep_pickup_datetime\"))) \\\n",
    "    .select(\n",
    "        col(\"tpep_pickup_datetime\").alias(\"pick_up_timestamp\"),\n",
    "        col(\"tpep_pickup_date_time\").alias(\"Pickup_date_time\"),\n",
    "        year(col(\"tpep_pickup_date_time\")).alias(\"Pickup_Year\"),\n",
    "        month(col(\"tpep_pickup_date_time\")).alias(\"Pickup_Month\"),\n",
    "        dayofmonth(col(\"tpep_pickup_date_time\")).alias(\"Pickup_Day\"),\n",
    "        date_format(col(\"tpep_pickup_date_time\"), 'EEEE').alias(\"Pickup_Day_of_Week\"),\n",
    "        hour(col(\"tpep_pickup_date_time\")).alias(\"Pickup_Hour\")\n",
    "    ).distinct()\n",
    "    return dim_pickup_date"
   ]
  },
  {
   "cell_type": "code",
   "execution_count": 10,
   "id": "97a709b8",
   "metadata": {},
   "outputs": [],
   "source": [
    "def Fact_trips(Final_NYC):\n",
    "    fact_trips = Final_NYC \\\n",
    "        .select(\n",
    "        col(\"trip_id\"),\n",
    "        col(\"RatecodeID\"),\n",
    "        col(\"VendorID\"),\n",
    "        col(\"payment_type\").alias(\"payment_type_id\"),\n",
    "        col(\"Airport_fee\"),\n",
    "        col(\"congestion_surcharge\"),\n",
    "        col(\"extra\"),\n",
    "        col(\"fare_amount\"),\n",
    "        col(\"improvement_surcharge\"),\n",
    "        col(\"mta_tax\"),\n",
    "        col(\"passenger_count\"),\n",
    "        col(\"tip_amount\"),\n",
    "        col(\"tolls_amount\"),\n",
    "        col(\"total_amount\"),\n",
    "        col(\"trip_distance\"),\n",
    "        col(\"tpep_dropoff_datetime\").alias(\"dropoff_datetime\"),\n",
    "        col(\"tpep_pickup_datetime\").alias(\"pickup_datetime\")\n",
    "    )\n",
    "    return fact_trips"
   ]
  },
  {
   "cell_type": "code",
   "execution_count": 11,
   "id": "08ec188a",
   "metadata": {},
   "outputs": [
    {
     "name": "stderr",
     "output_type": "stream",
     "text": [
      "2024-10-18 01:17:01,401 WARN conf.HiveConf: HiveConf of name hive.stats.jdbc.timeout does not exist\n",
      "2024-10-18 01:17:01,402 WARN conf.HiveConf: HiveConf of name hive.stats.retries.wait does not exist\n",
      "2024-10-18 01:27:02,540 WARN session.SessionState: METASTORE_FILTER_HOOK will be ignored, since hive.security.authorization.manager is set to instance of HiveAuthorizerFactory.\n",
      "2024-10-18 01:27:03,063 WARN conf.HiveConf: HiveConf of name hive.internal.ss.authz.settings.applied.marker does not exist\n",
      "2024-10-18 01:27:03,063 WARN conf.HiveConf: HiveConf of name hive.stats.jdbc.timeout does not exist\n",
      "2024-10-18 01:27:03,063 WARN conf.HiveConf: HiveConf of name hive.stats.retries.wait does not exist\n",
      "2024-10-18 01:27:04,532 WARN metastore.ObjectStore: Failed to get database global_temp, returning NoSuchObjectException\n"
     ]
    },
    {
     "data": {
      "text/plain": [
       "'\\nfact_trips.coalesce(20)     .write     .mode(\"overwrite\")     .parquet(\"file:///home/student/NYC/Fact_trips.parquet\")\\n'"
      ]
     },
     "execution_count": 11,
     "metadata": {},
     "output_type": "execute_result"
    }
   ],
   "source": [
    "fact_trips = Fact_trips(Final_NYC)\n",
    "\n",
    "fact_trips \\\n",
    "    .write \\\n",
    "    .mode(\"append\") \\\n",
    "    .saveAsTable(\"nyc_dwh.fact_trips\")"
   ]
  },
  {
   "cell_type": "code",
   "execution_count": 21,
   "id": "e81d5924",
   "metadata": {},
   "outputs": [
    {
     "name": "stderr",
     "output_type": "stream",
     "text": [
      "                                                                                \r"
     ]
    }
   ],
   "source": [
    "dim_rate = Dim_Rate(Final_NYC)\n",
    "\n",
    "dim_rate \\\n",
    "    .write \\\n",
    "    .mode(\"append\") \\\n",
    "    .saveAsTable(\"nyc_dwh.dim_rate\")"
   ]
  },
  {
   "cell_type": "code",
   "execution_count": 23,
   "id": "ede3a249",
   "metadata": {},
   "outputs": [
    {
     "name": "stderr",
     "output_type": "stream",
     "text": [
      "                                                                                \r"
     ]
    }
   ],
   "source": [
    "dim_payment = Dim_Payment(Final_NYC)\n",
    "\n",
    "dim_payment \\\n",
    "    .write \\\n",
    "    .mode(\"append\") \\\n",
    "    .saveAsTable(\"nyc_dwh.dim_payment\")"
   ]
  },
  {
   "cell_type": "code",
   "execution_count": 26,
   "id": "f6ba0f80",
   "metadata": {},
   "outputs": [
    {
     "name": "stderr",
     "output_type": "stream",
     "text": [
      "                                                                                \r"
     ]
    }
   ],
   "source": [
    "dim_vendor = DIM_Vendor(Final_NYC)\n",
    "\n",
    "dim_vendor \\\n",
    "    .write \\\n",
    "    .mode(\"append\") \\\n",
    "    .saveAsTable(\"nyc_dwh.dim_vendor\")"
   ]
  },
  {
   "cell_type": "code",
   "execution_count": 12,
   "id": "ec1d7df2",
   "metadata": {},
   "outputs": [
    {
     "name": "stderr",
     "output_type": "stream",
     "text": [
      "2024-10-19 23:55:05,021 WARN conf.HiveConf: HiveConf of name hive.stats.jdbc.timeout does not exist\n",
      "2024-10-19 23:55:05,021 WARN conf.HiveConf: HiveConf of name hive.stats.retries.wait does not exist\n",
      "2024-10-20 00:04:59,488 WARN session.SessionState: METASTORE_FILTER_HOOK will be ignored, since hive.security.authorization.manager is set to instance of HiveAuthorizerFactory.\n",
      "2024-10-20 00:05:00,127 WARN conf.HiveConf: HiveConf of name hive.internal.ss.authz.settings.applied.marker does not exist\n",
      "2024-10-20 00:05:00,127 WARN conf.HiveConf: HiveConf of name hive.stats.jdbc.timeout does not exist\n",
      "2024-10-20 00:05:00,127 WARN conf.HiveConf: HiveConf of name hive.stats.retries.wait does not exist\n",
      "2024-10-20 00:05:02,161 WARN metastore.ObjectStore: Failed to get database global_temp, returning NoSuchObjectException\n",
      "                                                                                \r"
     ]
    }
   ],
   "source": [
    "dim_pickup_date = Dim_Pickup_Date(Final_NYC)\n",
    "\n",
    "dim_pickup_date \\\n",
    "    .write \\\n",
    "    .mode(\"append\") \\\n",
    "    .saveAsTable(\"nyc_dwh.dim_pickup_date\")"
   ]
  },
  {
   "cell_type": "code",
   "execution_count": 15,
   "id": "0ea9a542",
   "metadata": {},
   "outputs": [
    {
     "name": "stderr",
     "output_type": "stream",
     "text": [
      "                                                                                \r"
     ]
    }
   ],
   "source": [
    "dim_dropoff_date = Dim_Dropoff_Date(Final_NYC)\n",
    "\n",
    "dim_dropoff_date \\\n",
    "    .write \\\n",
    "    .mode(\"append\") \\\n",
    "    .saveAsTable(\"nyc_dwh.dim_dropoff_date\")"
   ]
  },
  {
   "cell_type": "code",
   "execution_count": null,
   "id": "7a137576",
   "metadata": {},
   "outputs": [],
   "source": []
  }
 ],
 "metadata": {
  "kernelspec": {
   "display_name": "Python 3 (ipykernel)",
   "language": "python",
   "name": "python3"
  },
  "language_info": {
   "codemirror_mode": {
    "name": "ipython",
    "version": 3
   },
   "file_extension": ".py",
   "mimetype": "text/x-python",
   "name": "python",
   "nbconvert_exporter": "python",
   "pygments_lexer": "ipython3",
   "version": "3.8.11"
  }
 },
 "nbformat": 4,
 "nbformat_minor": 5
}

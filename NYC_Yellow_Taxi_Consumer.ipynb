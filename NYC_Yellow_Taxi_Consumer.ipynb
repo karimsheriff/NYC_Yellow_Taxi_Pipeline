{
 "cells": [
  {
   "cell_type": "code",
   "execution_count": 1,
   "id": "c2028fee",
   "metadata": {},
   "outputs": [],
   "source": [
    "from pyspark.sql import SparkSession\n",
    "from pyspark import SparkContext\n",
    "from pyspark.streaming import StreamingContext\n",
    "from pyspark.sql.functions import *\n",
    "from pyspark.sql.types import *"
   ]
  },
  {
   "cell_type": "code",
   "execution_count": 2,
   "id": "da90a40f",
   "metadata": {},
   "outputs": [],
   "source": [
    "spark = SparkSession.builder \\\n",
    "    .appName(\"KafkaSparkStreaming\") \\\n",
    "    .master(\"local[*]\") \\\n",
    "    .config(\"spark.streaming.stopGracefullyOnShutdown\",\"true\") \\\n",
    "    .config(\"spark.jars.packeges\",\"org.apache.spark:spark-sql-kafka-0-10_2.13:3.1.2\") \\\n",
    "    .config(\"spark.sql.warehouse.dir\", \"/user/hive/warehouse\") \\\n",
    "    .config(\"hive.metastore.uris\", \"thrift://your-hive-metastore-uri:port\") \\\n",
    "    .config(\"spark.jars\", \"/path/to/mysql-connector-java-x.x.xx.jar\") \\\n",
    "    .config(\"spark.driver.allowMultipleContexts\",\"true\") \\\n",
    "    .enableHiveSupport() \\\n",
    "    .getOrCreate()"
   ]
  },
  {
   "cell_type": "code",
   "execution_count": 3,
   "id": "a725fdf3",
   "metadata": {},
   "outputs": [],
   "source": [
    "# Kafka configs\n",
    "kafka_input_config = {\n",
    "    \"kafka.bootstrap.servers\": \"localhost:9092\",  # Adjust as necessary\n",
    "    \"subscribe\": \"ylc_topic\",  # Your topic name\n",
    "    \"startingOffsets\": \"latest\",\n",
    "    \"failOnDataLoss\": \"false\"\n",
    "}"
   ]
  },
  {
   "cell_type": "code",
   "execution_count": 4,
   "id": "3ba44b2b",
   "metadata": {},
   "outputs": [],
   "source": [
    "schema = StructType([\n",
    "    StructField(\"VendorID\", DecimalType(10, 0), True),\n",
    "    StructField(\"tpep_pickup_datetime\", StringType(), True),\n",
    "    StructField(\"tpep_dropoff_datetime\", StringType(), True),\n",
    "    StructField(\"passenger_count\", DecimalType(10, 0), True),  \n",
    "    StructField(\"trip_distance\", DecimalType(10, 2), True),\n",
    "    StructField(\"RatecodeID\", DecimalType(10, 0), True),\n",
    "    StructField(\"store_and_fwd_flag\", StringType(), True),\n",
    "    StructField(\"PULocationID\", DecimalType(10, 0), True),\n",
    "    StructField(\"DOLocationID\", DecimalType(10, 0), True),\n",
    "    StructField(\"payment_type\", DecimalType(10, 0), True),\n",
    "    StructField(\"fare_amount\", DecimalType(10, 2), True),\n",
    "    StructField(\"extra\", DecimalType(10, 2), True),\n",
    "    StructField(\"mta_tax\", DecimalType(10, 2), True),\n",
    "    StructField(\"tip_amount\", DecimalType(10, 2), True),\n",
    "    StructField(\"tolls_amount\", DecimalType(10, 2), True),\n",
    "    StructField(\"improvement_surcharge\", DecimalType(10, 2), True),\n",
    "    StructField(\"total_amount\", DecimalType(10, 2), True),\n",
    "    StructField(\"congestion_surcharge\", DecimalType(10, 2), True),\n",
    "    StructField(\"Airport_fee\", DecimalType(10, 2), True)\n",
    "])\n"
   ]
  },
  {
   "cell_type": "code",
   "execution_count": 5,
   "id": "b213fff4",
   "metadata": {},
   "outputs": [],
   "source": [
    "mysql_url = \"jdbc:mysql://localhost:3306/ylc\"\n",
    "mysql_properties = {\n",
    "    \"user\": \"student\",\n",
    "    \"password\": \"student\",\n",
    "    \"driver\": \"com.mysql.jdbc.Driver\"\n",
    "}\n",
    "def sqlinsert(df, epoch_id):\n",
    "    df.write \\\n",
    "      .jdbc(url=mysql_url, table=\"nyc_taxi_trips\", mode=\"append\", properties=mysql_properties)"
   ]
  },
  {
   "cell_type": "code",
   "execution_count": 6,
   "id": "256b468a",
   "metadata": {},
   "outputs": [],
   "source": [
    "df = spark \\\n",
    "    .readStream \\\n",
    "    .format(\"kafka\") \\\n",
    "    .options(**kafka_input_config) \\\n",
    "    .load()"
   ]
  },
  {
   "cell_type": "code",
   "execution_count": 7,
   "id": "8e3f06a8",
   "metadata": {},
   "outputs": [],
   "source": [
    "value_df = df.selectExpr(\"CAST(value AS STRING) as value\")\n",
    "\n",
    "ylc_df = value_df.withColumn(\"value\", from_json(col(\"value\"), schema))\n",
    "\n",
    "ylc_df = ylc_df.select(\"value.*\") \\\n",
    "    .withColumn(\"tpep_pickup_datetime\", to_timestamp(\"tpep_pickup_datetime\", \"yyyy-MM-dd HH:mm:ss\")) \\\n",
    "    .withColumn(\"tpep_pickup_datetime\", to_timestamp(\"tpep_dropoff_datetime\", \"yyyy-MM-dd HH:mm:ss\")) \n"
   ]
  },
  {
   "cell_type": "code",
   "execution_count": null,
   "id": "fc51669c",
   "metadata": {
    "scrolled": true
   },
   "outputs": [],
   "source": [
    "myStream = ylc_df.writeStream \\\n",
    "    .foreachBatch(sqlinsert) \\\n",
    "    .option(\"checkpointLocation\", \"/Data/hive_checkpoint/YLC\") \\\n",
    "    .outputMode(\"append\") \\\n",
    "    .start()\n",
    "myStream.awaitTermination()"
   ]
  },
  {
   "cell_type": "code",
   "execution_count": null,
   "id": "1df4af5f",
   "metadata": {},
   "outputs": [],
   "source": []
  }
 ],
 "metadata": {
  "kernelspec": {
   "display_name": "Python 3 (ipykernel)",
   "language": "python",
   "name": "python3"
  },
  "language_info": {
   "codemirror_mode": {
    "name": "ipython",
    "version": 3
   },
   "file_extension": ".py",
   "mimetype": "text/x-python",
   "name": "python",
   "nbconvert_exporter": "python",
   "pygments_lexer": "ipython3",
   "version": "3.8.11"
  }
 },
 "nbformat": 4,
 "nbformat_minor": 5
}
